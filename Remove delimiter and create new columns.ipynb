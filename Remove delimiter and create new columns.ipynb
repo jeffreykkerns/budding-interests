{
 "cells": [
  {
   "cell_type": "markdown",
   "metadata": {},
   "source": [
    "# The purpose of this is split into two columns values that are separated by a delimiter such as '-'.  "
   ]
  },
  {
   "cell_type": "code",
   "execution_count": 1,
   "metadata": {
    "collapsed": true
   },
   "outputs": [],
   "source": [
    "import numpy as np\n",
    "import pandas as pd\n",
    "\n",
    "from pandas import Series,DataFrame"
   ]
  },
  {
   "cell_type": "code",
   "execution_count": 2,
   "metadata": {
    "collapsed": false
   },
   "outputs": [],
   "source": [
    "# read in the file\n",
    "\n",
    "mp_df = pd.read_csv('C:/Users/Jeffrey/Desktop/jefftestdict.csv')"
   ]
  },
  {
   "cell_type": "code",
   "execution_count": 3,
   "metadata": {
    "collapsed": false
   },
   "outputs": [
    {
     "data": {
      "text/html": [
       "<div>\n",
       "<table border=\"1\" class=\"dataframe\">\n",
       "  <thead>\n",
       "    <tr style=\"text-align: right;\">\n",
       "      <th></th>\n",
       "      <th>C</th>\n",
       "      <th>L</th>\n",
       "      <th>m</th>\n",
       "    </tr>\n",
       "  </thead>\n",
       "  <tbody>\n",
       "    <tr>\n",
       "      <th>0</th>\n",
       "      <td>jkk1234</td>\n",
       "      <td>k456</td>\n",
       "      <td>122-124</td>\n",
       "    </tr>\n",
       "    <tr>\n",
       "      <th>1</th>\n",
       "      <td>jkk2356</td>\n",
       "      <td>k672</td>\n",
       "      <td>133-135</td>\n",
       "    </tr>\n",
       "    <tr>\n",
       "      <th>2</th>\n",
       "      <td>jk1234</td>\n",
       "      <td>k891</td>\n",
       "      <td>125-126</td>\n",
       "    </tr>\n",
       "    <tr>\n",
       "      <th>3</th>\n",
       "      <td>jkk7846</td>\n",
       "      <td>k2834</td>\n",
       "      <td>246-248</td>\n",
       "    </tr>\n",
       "    <tr>\n",
       "      <th>4</th>\n",
       "      <td>jk7846</td>\n",
       "      <td>k838</td>\n",
       "      <td>192-197</td>\n",
       "    </tr>\n",
       "    <tr>\n",
       "      <th>5</th>\n",
       "      <td>jk38485</td>\n",
       "      <td>k3850</td>\n",
       "      <td>156-158</td>\n",
       "    </tr>\n",
       "  </tbody>\n",
       "</table>\n",
       "</div>"
      ],
      "text/plain": [
       "         C      L        m\n",
       "0  jkk1234   k456  122-124\n",
       "1  jkk2356   k672  133-135\n",
       "2   jk1234   k891  125-126\n",
       "3  jkk7846  k2834  246-248\n",
       "4   jk7846   k838  192-197\n",
       "5  jk38485  k3850  156-158"
      ]
     },
     "execution_count": 3,
     "metadata": {},
     "output_type": "execute_result"
    }
   ],
   "source": [
    "mp_df"
   ]
  },
  {
   "cell_type": "code",
   "execution_count": 4,
   "metadata": {
    "collapsed": true
   },
   "outputs": [],
   "source": [
    "# create function to find characters of interest\n",
    "\n",
    "def st_high(m):\n",
    "    n=str(m)\n",
    "    dash_pos = n.find('-') # find '-'\n",
    "    return n[dash_pos+1:]   # return all characters to the right of the '-' "
   ]
  },
  {
   "cell_type": "code",
   "execution_count": 5,
   "metadata": {
    "collapsed": false
   },
   "outputs": [],
   "source": [
    "# create function to find characters of interest\n",
    "\n",
    "def st_low(m):\n",
    "    n=str(m)\n",
    "    dash_pos = n.find('-')   # find '-'      \n",
    "    return n[:dash_pos]    # return all characters to the left of the '-'"
   ]
  },
  {
   "cell_type": "code",
   "execution_count": 6,
   "metadata": {
    "collapsed": false
   },
   "outputs": [],
   "source": [
    "mp_df['m_1'] = mp_df['m'].apply(st_low) # create new column m_1 and return all characters to the left of the '-'\n",
    "mp_df['m_2'] = mp_df['m'].apply(st_high) # create new column m_1 and return all characters to the right of the '-'"
   ]
  },
  {
   "cell_type": "code",
   "execution_count": 8,
   "metadata": {
    "collapsed": false
   },
   "outputs": [
    {
     "data": {
      "text/html": [
       "<div>\n",
       "<table border=\"1\" class=\"dataframe\">\n",
       "  <thead>\n",
       "    <tr style=\"text-align: right;\">\n",
       "      <th></th>\n",
       "      <th>C</th>\n",
       "      <th>L</th>\n",
       "      <th>m</th>\n",
       "      <th>m_1</th>\n",
       "      <th>m_2</th>\n",
       "    </tr>\n",
       "  </thead>\n",
       "  <tbody>\n",
       "    <tr>\n",
       "      <th>0</th>\n",
       "      <td>jkk1234</td>\n",
       "      <td>k456</td>\n",
       "      <td>122-124</td>\n",
       "      <td>122</td>\n",
       "      <td>124</td>\n",
       "    </tr>\n",
       "    <tr>\n",
       "      <th>1</th>\n",
       "      <td>jkk2356</td>\n",
       "      <td>k672</td>\n",
       "      <td>133-135</td>\n",
       "      <td>133</td>\n",
       "      <td>135</td>\n",
       "    </tr>\n",
       "    <tr>\n",
       "      <th>2</th>\n",
       "      <td>jk1234</td>\n",
       "      <td>k891</td>\n",
       "      <td>125-126</td>\n",
       "      <td>125</td>\n",
       "      <td>126</td>\n",
       "    </tr>\n",
       "    <tr>\n",
       "      <th>3</th>\n",
       "      <td>jkk7846</td>\n",
       "      <td>k2834</td>\n",
       "      <td>246-248</td>\n",
       "      <td>246</td>\n",
       "      <td>248</td>\n",
       "    </tr>\n",
       "    <tr>\n",
       "      <th>4</th>\n",
       "      <td>jk7846</td>\n",
       "      <td>k838</td>\n",
       "      <td>192-197</td>\n",
       "      <td>192</td>\n",
       "      <td>197</td>\n",
       "    </tr>\n",
       "    <tr>\n",
       "      <th>5</th>\n",
       "      <td>jk38485</td>\n",
       "      <td>k3850</td>\n",
       "      <td>156-158</td>\n",
       "      <td>156</td>\n",
       "      <td>158</td>\n",
       "    </tr>\n",
       "  </tbody>\n",
       "</table>\n",
       "</div>"
      ],
      "text/plain": [
       "         C      L        m  m_1  m_2\n",
       "0  jkk1234   k456  122-124  122  124\n",
       "1  jkk2356   k672  133-135  133  135\n",
       "2   jk1234   k891  125-126  125  126\n",
       "3  jkk7846  k2834  246-248  246  248\n",
       "4   jk7846   k838  192-197  192  197\n",
       "5  jk38485  k3850  156-158  156  158"
      ]
     },
     "execution_count": 8,
     "metadata": {},
     "output_type": "execute_result"
    }
   ],
   "source": [
    "mp_df"
   ]
  }
 ],
 "metadata": {
  "kernelspec": {
   "display_name": "Python 3",
   "language": "python",
   "name": "python3"
  },
  "language_info": {
   "codemirror_mode": {
    "name": "ipython",
    "version": 3
   },
   "file_extension": ".py",
   "mimetype": "text/x-python",
   "name": "python",
   "nbconvert_exporter": "python",
   "pygments_lexer": "ipython3",
   "version": "3.5.1"
  }
 },
 "nbformat": 4,
 "nbformat_minor": 0
}
